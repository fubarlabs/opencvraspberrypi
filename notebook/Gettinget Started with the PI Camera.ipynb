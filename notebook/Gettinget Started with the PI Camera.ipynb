{
 "cells": [
  {
   "cell_type": "markdown",
   "metadata": {
    "collapsed": true,
    "deletable": true,
    "editable": true
   },
   "source": [
    "# Getting Started with the PI Camers\n",
    "\n",
    "* Install the camera\n",
    "* Enable the camera\n",
    "* Take a picture with Python\n",
    "* Use cheese to take a picture\n",
    "\n",
    "## Official Documentation\n",
    "\n",
    "https://picamera.readthedocs.io/en/release-1.12/\n",
    "\n",
    "\n",
    "## Enable Raspberry PI Camera\n",
    "\n",
    "User the raspi-config either command line or graphical and select enable the camera.\n",
    "\n",
    "<img src=\"./images/raspicamera.png\" alt=\"raspberry pi camera enable\" width=\"75%\" height=\"75%\" />\n",
    "\n",
    "## Use some Python to use the Camera\n",
    "\n",
    "This is a built in library and should be on the Raspberry PI by default.\n",
    "\n",
    "\n"
   ]
  },
  {
   "cell_type": "code",
   "execution_count": 1,
   "metadata": {
    "collapsed": true,
    "deletable": true,
    "editable": true
   },
   "outputs": [],
   "source": [
    "from picamera import PiCamera\n",
    "from time import sleep\n",
    "\n",
    "camera = PiCamera()\n",
    "\n",
    "camera.start_preview()\n",
    "sleep(10)\n",
    "camera.stop_preview()"
   ]
  },
  {
   "cell_type": "markdown",
   "metadata": {
    "deletable": true,
    "editable": true
   },
   "source": [
    "## Trouble shooting and notes\n",
    "\n",
    "The PI Camera doesn't present itself to the system even though it's working through Python. What's not configured are the basic device nodes that Linux would like to use. So a program like \"cheese\" will not find the camera.\n",
    "\n",
    "```bash\n",
    "sudo apt-get install cheese\n",
    "```\n",
    "\n",
    "This would install cheese but this error would occur:\n",
    "No device found\n",
    "\n",
    "<img src=\"./images/nocheese.png\" alt=\"no cheese\" width=\"75%\" height=\"75%\" />\n",
    "\n",
    "```bash\n",
    "ls /dev/vid*\n",
    "```\n",
    "Would return no device.\n",
    "\n",
    "### The Fix\n",
    "\n",
    "The low linux kernel isn't loaded. So we have to do it manually.\n",
    "```bash\n",
    "sudo modprobe bcm2835-v4l2\n",
    "\n",
    "```\n",
    "\n"
   ]
  }
 ],
 "metadata": {
  "kernelspec": {
   "display_name": "Python 3",
   "language": "python",
   "name": "python3"
  },
  "language_info": {
   "codemirror_mode": {
    "name": "ipython",
    "version": 3
   },
   "file_extension": ".py",
   "mimetype": "text/x-python",
   "name": "python",
   "nbconvert_exporter": "python",
   "pygments_lexer": "ipython3",
   "version": "3.4.2"
  }
 },
 "nbformat": 4,
 "nbformat_minor": 2
}
